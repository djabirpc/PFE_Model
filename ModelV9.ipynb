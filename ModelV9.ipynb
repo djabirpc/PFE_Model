{
  "cells": [
    {
      "cell_type": "code",
      "execution_count": null,
      "metadata": {
        "id": "JjJSkRvKyImW"
      },
      "outputs": [],
      "source": [
        "import numpy as np\n",
        "import cv2\n",
        "from PIL import ImageFile, Image\n",
        "ImageFile.LOAD_TRUNCATED_IMAGES = True\n",
        "from matplotlib import pyplot as plt"
      ]
    },
    {
      "cell_type": "code",
      "execution_count": null,
      "metadata": {
        "colab": {
          "base_uri": "https://localhost:8080/"
        },
        "id": "Kt3ShTzZy5z9",
        "outputId": "9156d409-1131-4817-df66-c67d47bfae33"
      },
      "outputs": [
        {
          "name": "stdout",
          "output_type": "stream",
          "text": [
            "Mounted at /content/drive\n"
          ]
        }
      ],
      "source": [
        "from google.colab import drive\n",
        "drive.mount('/content/drive')"
      ]
    },
    {
      "cell_type": "markdown",
      "metadata": {
        "id": "FWuPciyMzFqp"
      },
      "source": [
        "# Data Set"
      ]
    },
    {
      "cell_type": "code",
      "execution_count": null,
      "metadata": {
        "id": "kH5jQl1ezG-M"
      },
      "outputs": [],
      "source": [
        "train_images  = []\n",
        "train_masks  = []\n",
        "x_name = []\n",
        "y_name = []\n"
      ]
    },
    {
      "cell_type": "code",
      "execution_count": null,
      "metadata": {
        "id": "VQ8mvtJTzKdd"
      },
      "outputs": [],
      "source": [
        "#GTR 0\n",
        "for i in range(1,99):\n",
        "  x_name.append(f'/content/drive/My Drive/PFE/Data/image0_{i}.jpg')\n",
        "  y_name.append(f'/content/drive/My Drive/PFE/Mask/G0_{i}.bmp')\n",
        "\n",
        "#GTR 1\n",
        "for i in range(1,99):\n",
        "  x_name.append(f'/content/drive/My Drive/PFE/Data/image1_{i}.jpg')\n",
        "  y_name.append(f'/content/drive/My Drive/PFE/Mask/G1_{i}.bmp')\n",
        "\n",
        "#GTR 2\n",
        "for i in range(1,99):\n",
        "  x_name.append(f'/content/drive/My Drive/PFE/Data/Image2_{i}.jpg')\n",
        "  y_name.append(f'/content/drive/My Drive/PFE/Mask/G2_{i}.bmp')\n",
        "\n",
        "#GTR 3\n",
        "for i in range(1,11):\n",
        "  x_name.append(f'/content/drive/My Drive/PFE/Data/Image3_{i}.jpg')\n",
        "  y_name.append(f'/content/drive/My Drive/PFE/Mask/G3_{i}.bmp')\n",
        "for i in range(12,88):\n",
        "  x_name.append(f'/content/drive/My Drive/PFE/Data/Image3_{i}.jpg')\n",
        "  y_name.append(f'/content/drive/My Drive/PFE/Mask/G3_{i}.bmp')\n",
        "\n",
        "#GTR 4\n",
        "for i in range(1,101):\n",
        "  x_name.append(f'/content/drive/My Drive/PFE/Data/Image4_{i}.jpg')\n",
        "  y_name.append(f'/content/drive/My Drive/PFE/Mask/G4_{i}.bmp')\n",
        "\n",
        "#GTR 5\n",
        "for i in range(1,89):\n",
        "  x_name.append(f'/content/drive/My Drive/PFE/Data/Image5_{i}.jpg')\n",
        "  y_name.append(f'/content/drive/My Drive/PFE/Mask/G5_{i}.bmp')"
      ]
    },
    {
      "cell_type": "code",
      "execution_count": null,
      "metadata": {
        "colab": {
          "background_save": true
        },
        "id": "Q-FFP7eCzP6A",
        "outputId": "95e0fed2-71d8-4159-8d26-a4988aa21505"
      },
      "outputs": [
        {
          "data": {
            "text/plain": [
              "(568, 512, 512)"
            ]
          },
          "execution_count": null,
          "metadata": {},
          "output_type": "execute_result"
        }
      ],
      "source": [
        "SIZE = 512\n",
        "for filename in x_name:\n",
        "    image = cv2.imread(filename, cv2.IMREAD_COLOR) # 789 * 569 * 3\n",
        "    image = cv2.resize(image, (SIZE, SIZE)) # 512 * 512\n",
        "    image = cv2.cvtColor(image, cv2.COLOR_RGB2GRAY) # Color -> Black & White\n",
        "    image = np.array(image) # \n",
        "    train_images.append(image)\n",
        "train_images = np.array(train_images)\n",
        "train_images.shape\n",
        "\n",
        "#####################################################################\n",
        "########################### Devise ##################################\n",
        "#####################################################################\n",
        "\n",
        "# for filename in x_name:\n",
        "#     image = cv2.imread(filename, cv2.IMREAD_COLOR)\n",
        "#     image = np.array(image)\n",
        "#     h = int(image.shape[0]/2)\n",
        "#     w = int(image.shape[1]/2)\n",
        "#     train_images.append(image[:h,:w,:])\n",
        "#     train_images.append(image[:h,w:,:])\n",
        "#     train_images.append(image[h:,:w,:])\n",
        "#     train_images.append(image[h:,w:,:])\n",
        "# train_images = np.array(train_images)\n",
        "# train_images.shape"
      ]
    },
    {
      "cell_type": "code",
      "execution_count": null,
      "metadata": {
        "colab": {
          "base_uri": "https://localhost:8080/"
        },
        "id": "Oo817pahW1D3",
        "outputId": "57b5875a-d34e-41a3-d59b-e621965e1e81"
      },
      "outputs": [
        {
          "data": {
            "text/plain": [
              "array([[ 73,  80,  92, ...,  40,  40,  40],\n",
              "       [ 57,  63,  73, ...,  40,  40,  40],\n",
              "       [ 46,  50,  58, ...,  40,  40,  40],\n",
              "       ...,\n",
              "       [159, 163, 163, ...,  39,  42,  42],\n",
              "       [156, 161, 161, ...,  36,  43,  44],\n",
              "       [153, 157, 157, ...,  36,  43,  44]], dtype=uint8)"
            ]
          },
          "execution_count": 32,
          "metadata": {},
          "output_type": "execute_result"
        }
      ],
      "source": [
        "train_images[1]"
      ]
    },
    {
      "cell_type": "code",
      "execution_count": null,
      "metadata": {
        "id": "_RsMzumKzWJa"
      },
      "outputs": [],
      "source": [
        "for filename in y_name:\n",
        "    image = cv2.imread(filename, 0)\n",
        "    image = cv2.resize(image, (SIZE, SIZE))\n",
        "    train_masks.append(image)\n",
        "\n",
        "train_masks = np.array(train_masks) /255.\n",
        "# train_masks = np.expand_dims(train_masks,3)\n",
        "train_masks.shape\n",
        "\n",
        "#####################################################################\n",
        "########################### Devise ##################################\n",
        "#####################################################################\n",
        "\n",
        "# for filename in y_name:\n",
        "#     image = cv2.imread(filename, 0)\n",
        "#     image = np.array(image)\n",
        "#     h = int(image.shape[0]/2)\n",
        "#     w = int(image.shape[1]/2)\n",
        "#     train_masks.append(image[:h,:w])\n",
        "#     train_masks.append(image[:h,w:])\n",
        "#     train_masks.append(image[h:,:w])\n",
        "#     train_masks.append(image[h:,w:])\n",
        "\n",
        "# train_masks = np.expand_dims(np.array(train_masks),-1)\n",
        "# train_masks.shape"
      ]
    },
    {
      "cell_type": "markdown",
      "metadata": {
        "id": "MXh67U7czuub"
      },
      "source": [
        "# Resizing Data"
      ]
    },
    {
      "cell_type": "code",
      "execution_count": null,
      "metadata": {
        "id": "-h2_yeKgzvDt"
      },
      "outputs": [],
      "source": [
        "SIZE = 256"
      ]
    },
    {
      "cell_type": "code",
      "execution_count": null,
      "metadata": {
        "id": "Zlkh9FfSz3bG"
      },
      "outputs": [],
      "source": [
        "train_images_resize = []\n",
        "for i in range(train_images.shape[0]):\n",
        "  image = cv2.resize(train_images[i], (SIZE, SIZE))\n",
        "  image = cv2.cvtColor(image, cv2.COLOR_RGB2BGR)\n",
        "  train_images_resize.append(image)\n",
        "\n",
        "train_images_resize = np.array(train_images_resize)\n",
        "train_images_resize.shape"
      ]
    },
    {
      "cell_type": "code",
      "execution_count": null,
      "metadata": {
        "id": "Eu4GVt4iz4t6"
      },
      "outputs": [],
      "source": [
        "train_masks_resize = []\n",
        "for i in range(train_masks.shape[0]):\n",
        "  image = cv2.resize(train_masks[i][:,:,0], (SIZE, SIZE))\n",
        "  train_masks_resize.append(image)\n",
        "\n",
        "train_masks_resize = np.array(train_masks_resize) / 255.\n",
        "train_masks_resize = np.expand_dims(train_masks_resize,3)\n",
        "\n",
        "train_masks_resize.shape"
      ]
    },
    {
      "cell_type": "markdown",
      "metadata": {
        "id": "68HgzdQu36BH"
      },
      "source": [
        "# Try LSTM"
      ]
    },
    {
      "cell_type": "code",
      "source": [
        "import keras\n",
        "from keras.layers import Dense, LSTM, Flatten, TimeDistributed, Conv2D, Dropout,ConvLSTM2D, TimeDistributed, Bidirectional, Conv2D, Input,Conv2DTranspose,Reshape\n",
        "from keras import Sequential\n",
        "from keras.models import Model\n",
        "import tensorflow as tf\n",
        "\n",
        "t = tf.random.normal((16,16,3,1024,1024), dtype=tf.float32)"
      ],
      "metadata": {
        "id": "-pjxDMDVFfEB"
      },
      "execution_count": null,
      "outputs": []
    },
    {
      "cell_type": "code",
      "source": [
        "t.shape"
      ],
      "metadata": {
        "colab": {
          "base_uri": "https://localhost:8080/"
        },
        "id": "fF4ykP_EGL_a",
        "outputId": "4e7ac9b5-2917-4f98-d5f8-beaf85036a21"
      },
      "execution_count": null,
      "outputs": [
        {
          "output_type": "execute_result",
          "data": {
            "text/plain": [
              "TensorShape([16, 16, 3, 1024, 1024])"
            ]
          },
          "metadata": {},
          "execution_count": 2
        }
      ]
    },
    {
      "cell_type": "code",
      "source": [
        "inputs = Input(shape=(10, 20, 20, 3))\n",
        "# Flatten (4,)\n",
        "td_conv = LSTM()"
      ],
      "metadata": {
        "id": "mbtaBiDAGSXb"
      },
      "execution_count": null,
      "outputs": []
    },
    {
      "cell_type": "code",
      "execution_count": null,
      "metadata": {
        "id": "ijXtO95837W5"
      },
      "outputs": [],
      "source": [
        "import keras\n",
        "from keras.layers import Dense, LSTM, Flatten, TimeDistributed, Conv2D, Dropout,ConvLSTM2D, TimeDistributed, Bidirectional, Conv2D, Input,Conv2DTranspose,Reshape\n",
        "from keras import Sequential\n",
        "from keras.models import Model\n",
        "\n",
        "# inputs = Input(shape=(10, 20, 20, 3))\n",
        "# td_conv = TimeDistributed(Conv2D(15, (5, 5)))(inputs)\n",
        "# bi_convlstm2d = Bidirectional(ConvLSTM2D(10, (3, 3)), merge_mode='concat')(td_conv)\n",
        "# model = Model(inputs=inputs, outputs=bi_convlstm2d)\n",
        "\n",
        "# sequenceInputLayer([785,785,3],'Name','input')\n",
        "# flattenLayer('Name','flatten')\n",
        "# lstmLayer(200,'OutputMode','sequence','Name','lstm1')\n",
        "# lstmLayer(200,'OutputMode','sequence','Name','lstm2')\n",
        "\n",
        "# fullyConnectedLayer(785*785*3,'Name','fc')\n",
        "# regressionLayer('routput')];\n",
        "\n",
        "inputs = Input(shape=(512, 512,3))\n",
        "inputs = Flatten()(inputs)\n",
        "# inputs = Reshape((-1, 3))(inputs)\n",
        "# lstm = ConvLSTM2D(4, activation='relu',kernel_size=(3,3))(inputs)\n",
        "lstm = LSTM(128, return_sequences=True)(inputs)\n",
        "outputs = Dense(512*512*3,activation='sigmoid')(lstm)\n",
        "# outputs = Conv2DTranspose(32, 3, 2, padding=\"same\")(outputs)\n",
        "# outputs = Conv2D(1, 1, padding=\"same\", activation=\"sigmoid\")(flatten)\n",
        "model = Model(inputs=inputs, outputs=outputs)\n",
        "\n",
        "# model = Sequential()\n",
        "\n",
        "# model.add(ConvLSTM2D(filters=12,\n",
        "#                      kernel_size=(3,3),\n",
        "#                      activation='sigmoid',\n",
        "#                      input_shape=(10,512,512,1)))\n",
        "\n",
        "# model = Sequential()\n",
        "# \tmodel.add(TimeDistributed(Conv1D(filters=64, kernel_size=3, activation='relu'), input_shape=(None,n_length,n_features)))\n",
        "# \tmodel.add(TimeDistributed(Conv1D(filters=64, kernel_size=3, activation='relu')))\n",
        "# \tmodel.add(TimeDistributed(Dropout(0.5)))\n",
        "# \tmodel.add(TimeDistributed(MaxPooling1D(pool_size=2)))\n",
        "# \tmodel.add(TimeDistributed(Flatten()))\n",
        "# \tmodel.add(LSTM(100))\n",
        "# \tmodel.add(Dropout(0.5))\n",
        "# \tmodel.add(Dense(100, activation='relu'))\n",
        "# \tmodel.add(Dense(n_outputs, activation='softmax'))\n",
        "\n",
        "model.summary()"
      ]
    },
    {
      "cell_type": "code",
      "execution_count": null,
      "metadata": {
        "colab": {
          "base_uri": "https://localhost:8080/",
          "height": 381
        },
        "id": "m281Yl7mUkoS",
        "outputId": "0eab36a3-4b70-4b30-8df5-345b85e1273f"
      },
      "outputs": [
        {
          "ename": "ResourceExhaustedError",
          "evalue": "ignored",
          "output_type": "error",
          "traceback": [
            "\u001b[0;31m---------------------------------------------------------------------------\u001b[0m",
            "\u001b[0;31mResourceExhaustedError\u001b[0m                    Traceback (most recent call last)",
            "\u001b[0;32m<ipython-input-31-9639468caeeb>\u001b[0m in \u001b[0;36m<module>\u001b[0;34m()\u001b[0m\n\u001b[1;32m     14\u001b[0m \u001b[0;31m# print('====Model shape: ', out_shape)\u001b[0m\u001b[0;34m\u001b[0m\u001b[0;34m\u001b[0m\u001b[0;34m\u001b[0m\u001b[0m\n\u001b[1;32m     15\u001b[0m \u001b[0mmodel\u001b[0m\u001b[0;34m.\u001b[0m\u001b[0madd\u001b[0m\u001b[0;34m(\u001b[0m\u001b[0mReshape\u001b[0m\u001b[0;34m(\u001b[0m\u001b[0;34m(\u001b[0m\u001b[0;36m20\u001b[0m\u001b[0;34m,\u001b[0m \u001b[0mout_shape\u001b[0m\u001b[0;34m[\u001b[0m\u001b[0;36m2\u001b[0m\u001b[0;34m]\u001b[0m \u001b[0;34m*\u001b[0m \u001b[0mout_shape\u001b[0m\u001b[0;34m[\u001b[0m\u001b[0;36m3\u001b[0m\u001b[0;34m]\u001b[0m \u001b[0;34m*\u001b[0m \u001b[0mout_shape\u001b[0m\u001b[0;34m[\u001b[0m\u001b[0;36m4\u001b[0m\u001b[0;34m]\u001b[0m\u001b[0;34m)\u001b[0m\u001b[0;34m)\u001b[0m\u001b[0;34m)\u001b[0m\u001b[0;34m\u001b[0m\u001b[0;34m\u001b[0m\u001b[0m\n\u001b[0;32m---> 16\u001b[0;31m \u001b[0mmodel\u001b[0m\u001b[0;34m.\u001b[0m\u001b[0madd\u001b[0m\u001b[0;34m(\u001b[0m\u001b[0mLSTM\u001b[0m\u001b[0;34m(\u001b[0m\u001b[0;36m64\u001b[0m\u001b[0;34m,\u001b[0m \u001b[0mreturn_sequences\u001b[0m\u001b[0;34m=\u001b[0m\u001b[0;32mTrue\u001b[0m\u001b[0;34m)\u001b[0m\u001b[0;34m)\u001b[0m\u001b[0;34m\u001b[0m\u001b[0;34m\u001b[0m\u001b[0m\n\u001b[0m\u001b[1;32m     17\u001b[0m \u001b[0mmodel\u001b[0m\u001b[0;34m.\u001b[0m\u001b[0madd\u001b[0m\u001b[0;34m(\u001b[0m\u001b[0mDropout\u001b[0m\u001b[0;34m(\u001b[0m\u001b[0;36m0.5\u001b[0m\u001b[0;34m)\u001b[0m\u001b[0;34m)\u001b[0m\u001b[0;34m\u001b[0m\u001b[0;34m\u001b[0m\u001b[0m\n\u001b[1;32m     18\u001b[0m \u001b[0;31m# model.add(Dense(N_CLASSES, activation='softmax'))\u001b[0m\u001b[0;34m\u001b[0m\u001b[0;34m\u001b[0m\u001b[0;34m\u001b[0m\u001b[0m\n",
            "\u001b[0;32m/usr/local/lib/python3.7/dist-packages/tensorflow/python/training/tracking/base.py\u001b[0m in \u001b[0;36m_method_wrapper\u001b[0;34m(self, *args, **kwargs)\u001b[0m\n\u001b[1;32m    627\u001b[0m     \u001b[0mself\u001b[0m\u001b[0;34m.\u001b[0m\u001b[0m_self_setattr_tracking\u001b[0m \u001b[0;34m=\u001b[0m \u001b[0;32mFalse\u001b[0m  \u001b[0;31m# pylint: disable=protected-access\u001b[0m\u001b[0;34m\u001b[0m\u001b[0;34m\u001b[0m\u001b[0m\n\u001b[1;32m    628\u001b[0m     \u001b[0;32mtry\u001b[0m\u001b[0;34m:\u001b[0m\u001b[0;34m\u001b[0m\u001b[0;34m\u001b[0m\u001b[0m\n\u001b[0;32m--> 629\u001b[0;31m       \u001b[0mresult\u001b[0m \u001b[0;34m=\u001b[0m \u001b[0mmethod\u001b[0m\u001b[0;34m(\u001b[0m\u001b[0mself\u001b[0m\u001b[0;34m,\u001b[0m \u001b[0;34m*\u001b[0m\u001b[0margs\u001b[0m\u001b[0;34m,\u001b[0m \u001b[0;34m**\u001b[0m\u001b[0mkwargs\u001b[0m\u001b[0;34m)\u001b[0m\u001b[0;34m\u001b[0m\u001b[0;34m\u001b[0m\u001b[0m\n\u001b[0m\u001b[1;32m    630\u001b[0m     \u001b[0;32mfinally\u001b[0m\u001b[0;34m:\u001b[0m\u001b[0;34m\u001b[0m\u001b[0;34m\u001b[0m\u001b[0m\n\u001b[1;32m    631\u001b[0m       \u001b[0mself\u001b[0m\u001b[0;34m.\u001b[0m\u001b[0m_self_setattr_tracking\u001b[0m \u001b[0;34m=\u001b[0m \u001b[0mprevious_value\u001b[0m  \u001b[0;31m# pylint: disable=protected-access\u001b[0m\u001b[0;34m\u001b[0m\u001b[0;34m\u001b[0m\u001b[0m\n",
            "\u001b[0;32m/usr/local/lib/python3.7/dist-packages/keras/utils/traceback_utils.py\u001b[0m in \u001b[0;36merror_handler\u001b[0;34m(*args, **kwargs)\u001b[0m\n\u001b[1;32m     65\u001b[0m     \u001b[0;32mexcept\u001b[0m \u001b[0mException\u001b[0m \u001b[0;32mas\u001b[0m \u001b[0me\u001b[0m\u001b[0;34m:\u001b[0m  \u001b[0;31m# pylint: disable=broad-except\u001b[0m\u001b[0;34m\u001b[0m\u001b[0;34m\u001b[0m\u001b[0m\n\u001b[1;32m     66\u001b[0m       \u001b[0mfiltered_tb\u001b[0m \u001b[0;34m=\u001b[0m \u001b[0m_process_traceback_frames\u001b[0m\u001b[0;34m(\u001b[0m\u001b[0me\u001b[0m\u001b[0;34m.\u001b[0m\u001b[0m__traceback__\u001b[0m\u001b[0;34m)\u001b[0m\u001b[0;34m\u001b[0m\u001b[0;34m\u001b[0m\u001b[0m\n\u001b[0;32m---> 67\u001b[0;31m       \u001b[0;32mraise\u001b[0m \u001b[0me\u001b[0m\u001b[0;34m.\u001b[0m\u001b[0mwith_traceback\u001b[0m\u001b[0;34m(\u001b[0m\u001b[0mfiltered_tb\u001b[0m\u001b[0;34m)\u001b[0m \u001b[0;32mfrom\u001b[0m \u001b[0;32mNone\u001b[0m\u001b[0;34m\u001b[0m\u001b[0;34m\u001b[0m\u001b[0m\n\u001b[0m\u001b[1;32m     68\u001b[0m     \u001b[0;32mfinally\u001b[0m\u001b[0;34m:\u001b[0m\u001b[0;34m\u001b[0m\u001b[0;34m\u001b[0m\u001b[0m\n\u001b[1;32m     69\u001b[0m       \u001b[0;32mdel\u001b[0m \u001b[0mfiltered_tb\u001b[0m\u001b[0;34m\u001b[0m\u001b[0;34m\u001b[0m\u001b[0m\n",
            "\u001b[0;32m/usr/local/lib/python3.7/dist-packages/keras/backend.py\u001b[0m in \u001b[0;36mrandom_uniform\u001b[0;34m(self, shape, minval, maxval, dtype)\u001b[0m\n\u001b[1;32m   1920\u001b[0m     return tf.random.uniform(\n\u001b[1;32m   1921\u001b[0m         \u001b[0mshape\u001b[0m\u001b[0;34m=\u001b[0m\u001b[0mshape\u001b[0m\u001b[0;34m,\u001b[0m \u001b[0mminval\u001b[0m\u001b[0;34m=\u001b[0m\u001b[0mminval\u001b[0m\u001b[0;34m,\u001b[0m \u001b[0mmaxval\u001b[0m\u001b[0;34m=\u001b[0m\u001b[0mmaxval\u001b[0m\u001b[0;34m,\u001b[0m \u001b[0mdtype\u001b[0m\u001b[0;34m=\u001b[0m\u001b[0mdtype\u001b[0m\u001b[0;34m,\u001b[0m\u001b[0;34m\u001b[0m\u001b[0;34m\u001b[0m\u001b[0m\n\u001b[0;32m-> 1922\u001b[0;31m         seed=self.make_legacy_seed())\n\u001b[0m\u001b[1;32m   1923\u001b[0m \u001b[0;34m\u001b[0m\u001b[0m\n\u001b[1;32m   1924\u001b[0m   \u001b[0;32mdef\u001b[0m \u001b[0mtruncated_normal\u001b[0m\u001b[0;34m(\u001b[0m\u001b[0mself\u001b[0m\u001b[0;34m,\u001b[0m \u001b[0mshape\u001b[0m\u001b[0;34m,\u001b[0m \u001b[0mmean\u001b[0m\u001b[0;34m=\u001b[0m\u001b[0;36m0.\u001b[0m\u001b[0;34m,\u001b[0m \u001b[0mstddev\u001b[0m\u001b[0;34m=\u001b[0m\u001b[0;36m1.\u001b[0m\u001b[0;34m,\u001b[0m \u001b[0mdtype\u001b[0m\u001b[0;34m=\u001b[0m\u001b[0;32mNone\u001b[0m\u001b[0;34m)\u001b[0m\u001b[0;34m:\u001b[0m\u001b[0;34m\u001b[0m\u001b[0;34m\u001b[0m\u001b[0m\n",
            "\u001b[0;31mResourceExhaustedError\u001b[0m: OOM when allocating tensor with shape[81931520,256] and type float on /job:localhost/replica:0/task:0/device:GPU:0 by allocator GPU_0_bfc [Op:RandomUniform]"
          ]
        }
      ],
      "source": [
        "import keras\n",
        "from keras.layers import Dense, LSTM, Flatten, TimeDistributed, Conv2D, Dropout,ConvLSTM2D, TimeDistributed, Bidirectional, Conv2D, Input,Conv2DTranspose,Reshape\n",
        "from keras import Sequential\n",
        "from keras.models import Model\n",
        "\n",
        "in_shape = (20, 512, 512, 3)\n",
        "\n",
        "model = Sequential()\n",
        "model.add(ConvLSTM2D(32, kernel_size=(7, 7), padding='valid', return_sequences=True, input_shape=in_shape))\n",
        "model.add(Dense(320))\n",
        "model.add(Dropout(0.5))\n",
        "\n",
        "out_shape = model.output_shape\n",
        "# print('====Model shape: ', out_shape)\n",
        "# model.add(Reshape((20, out_shape[2] * out_shape[3] * out_shape[4])))\n",
        "# model.add(LSTM(64, return_sequences=True))\n",
        "# model.add(Dropout(0.5))\n",
        "# model.add(Dense(N_CLASSES, activation='softmax'))\n",
        "# model.compile(loss='categorical_crossentropy', optimizer='sgd', metrics=['accuracy'])\n",
        "\n",
        "# model structure summary\n",
        "print(model.summary())\n"
      ]
    }
  ],
  "metadata": {
    "accelerator": "GPU",
    "colab": {
      "name": "ModelV9.ipynb",
      "provenance": []
    },
    "kernelspec": {
      "display_name": "Python 3",
      "name": "python3"
    },
    "language_info": {
      "name": "python"
    }
  },
  "nbformat": 4,
  "nbformat_minor": 0
}